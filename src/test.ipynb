{
 "cells": [
  {
   "cell_type": "code",
   "execution_count": null,
   "id": "e5a8f3b2",
   "metadata": {},
   "outputs": [],
   "source": [
    "import gurobipy as gp\n",
    "from gurobipy import GRB\n",
    "import numpy as np"
   ]
  },
  {
   "cell_type": "code",
   "execution_count": 32,
   "id": "560aca19",
   "metadata": {},
   "outputs": [
    {
     "name": "stdout",
     "output_type": "stream",
     "text": [
      "Gurobi Optimizer version 12.0.2 build v12.0.2rc0 (win64 - Windows 11.0 (26100.2))\n",
      "\n",
      "CPU model: 12th Gen Intel(R) Core(TM) i5-12500H, instruction set [SSE2|AVX|AVX2]\n",
      "Thread count: 12 physical cores, 16 logical processors, using up to 16 threads\n",
      "\n",
      "Optimize a model with 2 rows, 1000 columns and 2000 nonzeros\n",
      "Model fingerprint: 0xdef7aa3c\n",
      "Variable types: 0 continuous, 1000 integer (0 binary)\n",
      "Coefficient statistics:\n",
      "  Matrix range     [1e+00, 2e+01]\n",
      "  Objective range  [1e+02, 1e+02]\n",
      "  Bounds range     [3e+00, 3e+00]\n",
      "  RHS range        [1e+01, 1e+02]\n",
      "Found heuristic solution: objective 1105.0000000\n",
      "Presolve added 1 rows and 0 columns\n",
      "Presolve removed 0 rows and 981 columns\n",
      "Presolve time: 0.00s\n",
      "Presolved: 3 rows, 19 columns, 37 nonzeros\n",
      "Found heuristic solution: objective -0.0000000\n",
      "Variable types: 0 continuous, 19 integer (0 binary)\n",
      "Found heuristic solution: objective 1281.0000000\n",
      "\n",
      "Root relaxation: objective 1.290000e+03, 5 iterations, 0.00 seconds (0.00 work units)\n",
      "\n",
      "    Nodes    |    Current Node    |     Objective Bounds      |     Work\n",
      " Expl Unexpl |  Obj  Depth IntInf | Incumbent    BestBd   Gap | It/Node Time\n",
      "\n",
      "*    0     0               0    1290.0000000 1290.00000  0.00%     -    0s\n",
      "\n",
      "Explored 1 nodes (5 simplex iterations) in 0.02 seconds (0.00 work units)\n",
      "Thread count was 16 (of 16 available processors)\n",
      "\n",
      "Solution count 4: 1290 1281 1105 -0 \n",
      "\n",
      "Optimal solution found (tolerance 1.00e-04)\n",
      "Best objective 1.290000000000e+03, best bound 1.290000000000e+03, gap 0.0000%\n",
      "Product 156 has 1.0 units, weight=10, calories=129\n",
      "Product 418 has 3.0 units, weight=3, calories=129\n",
      "Product 829 has 3.0 units, weight=3, calories=129\n",
      "Product 848 has 3.0 units, weight=3, calories=129\n"
     ]
    }
   ],
   "source": [
    "NUM_PRODUCTS = 1000\n",
    "MAX_WEIGHT = 100\n",
    "MAX_ELEMENTS = 10\n",
    "\n",
    "# Parameters\n",
    "product_weight = np.random.randint(1, 20, size = NUM_PRODUCTS)\n",
    "product_calories = np.random.randint(100, 130, size = NUM_PRODUCTS)\n",
    "\n",
    "# Model\n",
    "model = gp.Model(\"knapsack\")\n",
    "\n",
    "# Variables\n",
    "x = model.addMVar(shape=NUM_PRODUCTS, vtype=GRB.INTEGER, lb=0, ub=3, name=\"x\")\n",
    "\n",
    "# Constraint\n",
    "model.addConstr(sum(product_weight[i] * x[i] for i in range(NUM_PRODUCTS)) <= MAX_WEIGHT, name=\"weight_limit\")\n",
    "model.addConstr(sum(x[i] for i in range(NUM_PRODUCTS)) <= MAX_ELEMENTS, name=\"elements_limit\")\n",
    "\n",
    "# Objective\n",
    "model.setObjective(sum(product_calories[i] * x[i] for i in range(NUM_PRODUCTS)), GRB.MAXIMIZE)\n",
    "model.update()\n",
    "model.optimize()\n",
    "\n",
    "# Reporting\n",
    "for i in range(NUM_PRODUCTS):\n",
    "    if x[i].X > 0:\n",
    "        print(\"Product \" + str(i) + \" has \" + str(x[i].X) + \" units, weight=\" + str(product_weight[i]) + \", calories=\" + str(product_calories[i]))"
   ]
  },
  {
   "cell_type": "code",
   "execution_count": null,
   "id": "711da687",
   "metadata": {},
   "outputs": [],
   "source": []
  }
 ],
 "metadata": {
  "kernelspec": {
   "display_name": "benders",
   "language": "python",
   "name": "python3"
  },
  "language_info": {
   "codemirror_mode": {
    "name": "ipython",
    "version": 3
   },
   "file_extension": ".py",
   "mimetype": "text/x-python",
   "name": "python",
   "nbconvert_exporter": "python",
   "pygments_lexer": "ipython3",
   "version": "3.10.17"
  }
 },
 "nbformat": 4,
 "nbformat_minor": 5
}
